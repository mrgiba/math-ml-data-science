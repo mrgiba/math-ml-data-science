{
 "cells": [
  {
   "cell_type": "markdown",
   "id": "existing-japanese",
   "metadata": {},
   "source": [
    "# Introduction to Python Matrices and NumPy #\n",
    "\n",
    "Welcome to your first notebook of this specialization! As mentioned in the lecture videos, you will use Python for the labs and programming assignments in this specializiation. In this course, most of your work will be inside a library called NumPy. NumPy (Numerical Python) is an open-source package that is widely used in science and engineering. You can check out the official [NumPy documentaion here](https://numpy.org/doc/stable/index.html). In this notebook, you will use NumPy to create 2-D arrays and easily compute mathematical operations.  Feel free to skip this notebook if you are already fluent with NumPy.\n",
    "\n",
    "**After this assignment you will be able to:**\n",
    "- Use Jupyter Notebook and its features. \n",
    "- Use NumPy functions to create arrays and NumPy array operations. \n",
    "- Use indexing and slicing for 2-D arrays.\n",
    "- Find the shape of an array, reshape it and stack it horizontally and vertically.\n",
    "\n",
    "**Instructions**\n",
    "- You will be using Python 3.\n",
    "- Follow along the cells using `Shift`+`Enter`. Alternatively, you can press `Run` in the menu. "
   ]
  },
  {
   "cell_type": "markdown",
   "id": "indie-lithuania",
   "metadata": {},
   "source": [
    "## Table of Contents ##\n",
    "[About Jupyter Notebooks](#0)\n",
    "- [1 - Basics of NumPy](#1)\n",
    "    - [1.1 - Packages](#1-1)\n",
    "    - [1.2 - Advantages of using NumPy arrays](#1-2)\n",
    "    - [1.3 - How to create NumPy arrays](#1-3)\n",
    "    - [1.4 - More on NumPy arrays](#1-4)\n",
    "- [2 - Multidimensional arrays](#2)\n",
    "    - [2.1 - Finding size, shape and dimension](#2-1)\n",
    "- [3 - Array math operations](#3)\n",
    "    - [3.1 - Multiplying vector with a scalar (broadcasting)](#3-1)\n",
    "- [4 - Indexing and slicing](#4)\n",
    "    - [4.1 - Indexing](#4-1)\n",
    "    - [4.2 - Slicing](#4-2)\n",
    "- [5 - Stacking](#5)"
   ]
  },
  {
   "cell_type": "markdown",
   "id": "welsh-generic",
   "metadata": {},
   "source": [
    "<a name='0'></a>\n",
    "## About Jupyter Notebooks ##\n",
    "\n",
    "\n",
    "Jupyter Notebooks are interactive coding journals that integrate live code, explanatory text, equations, visualizations and other multimedia resources, all in a single document. As a first exercise, run the test snippet below and the print statement cell for \"Hello World\"."
   ]
  },
  {
   "cell_type": "code",
   "execution_count": 3,
   "id": "expired-interface",
   "metadata": {
    "ExecuteTime": {
     "end_time": "2024-09-21T21:35:49.971800Z",
     "start_time": "2024-09-21T21:35:49.968182Z"
    }
   },
   "outputs": [],
   "source": [
    "# Run the \"Hello World\" in the cell below to print \"Hello World\". \n",
    "test = \"Hello World\""
   ]
  },
  {
   "cell_type": "code",
   "execution_count": 4,
   "id": "instrumental-macro",
   "metadata": {
    "ExecuteTime": {
     "end_time": "2024-09-21T21:35:50.160155Z",
     "start_time": "2024-09-21T21:35:50.157521Z"
    },
    "scrolled": true
   },
   "outputs": [
    {
     "name": "stdout",
     "output_type": "stream",
     "text": [
      "Hello World\n"
     ]
    }
   ],
   "source": [
    "print(test)"
   ]
  },
  {
   "cell_type": "markdown",
   "id": "whole-fundamental",
   "metadata": {},
   "source": [
    "<a name='1'></a>\n",
    "# 1 - Basics of NumPy #\n",
    "\n",
    "NumPy is the main package for scientific computing in Python. It performs a wide variety of advanced mathematical operations with high efficiency. In this practice lab you will learn several key NumPy functions that will help you in future assignments, such as creating arrays, slicing, indexing, reshaping and stacking."
   ]
  },
  {
   "cell_type": "markdown",
   "id": "neutral-concern",
   "metadata": {},
   "source": [
    "<a name='1-1'></a>\n",
    "## 1.1 - Packages ##"
   ]
  },
  {
   "cell_type": "markdown",
   "id": "warming-hypothesis",
   "metadata": {},
   "source": [
    "Before you get started, you have to import NumPy to load its functions. As you may notice, even though there is no expected output, when you run this cell, the Jupyter Notebook imports the package (often referred to as the library) and its functions. Try it for yourself and run the following cell."
   ]
  },
  {
   "cell_type": "code",
   "execution_count": 59,
   "id": "under-hardware",
   "metadata": {
    "ExecuteTime": {
     "end_time": "2024-09-21T21:35:50.225706Z",
     "start_time": "2024-09-21T21:35:50.219943Z"
    }
   },
   "outputs": [],
   "source": [
    "import numpy as np"
   ]
  },
  {
   "cell_type": "markdown",
   "id": "entire-entertainment",
   "metadata": {},
   "source": [
    "<a name='1-2'></a>\n",
    "## 1.2 - Advantages of using NumPy arrays ##"
   ]
  },
  {
   "cell_type": "markdown",
   "id": "skilled-action",
   "metadata": {},
   "source": [
    "Arrays are one of the core data structures of the NumPy library, essential for organizing your data. You can think of them as a grid of values, all of the same type. Arrays are analogous to the matrices you saw in the video lessons. If you have used Python lists before, you may remember that they are convenient, as you can store different data types. However, Python lists are limited in functions and take up more space and time to process than NumPy arrays.\n",
    "\n",
    "NumPy provides an array object that is much faster and more compact than Python lists. Through its extensive API integration, the library offers many built-in functions that make computing much easier with only a few lines of code. This can be a huge advantage when performing math operations on large datasets. \n",
    "\n",
    "The array object in NumPy is called `ndarray` meaning 'n-dimensional array'. To begin with, you will use one of the most common array types: the one-dimensional array ('1-D'). A 1-D array represents a standard list of values entirely in one dimension. Remember that in NumPy, all of the elements within the array are of the same type."
   ]
  },
  {
   "cell_type": "code",
   "execution_count": 60,
   "id": "rural-ceiling",
   "metadata": {
    "ExecuteTime": {
     "end_time": "2024-09-21T21:35:50.271787Z",
     "start_time": "2024-09-21T21:35:50.268484Z"
    }
   },
   "outputs": [
    {
     "name": "stdout",
     "output_type": "stream",
     "text": [
      "[10 12]\n"
     ]
    }
   ],
   "source": [
    "one_dimensional_arr = np.array([10, 12])\n",
    "print(one_dimensional_arr)"
   ]
  },
  {
   "cell_type": "markdown",
   "id": "planned-billy",
   "metadata": {},
   "source": [
    "<a name='1-3'></a>\n",
    "## 1.3 - How to create NumPy arrays ##"
   ]
  },
  {
   "cell_type": "markdown",
   "id": "dynamic-benjamin",
   "metadata": {},
   "source": [
    "There are several ways to create an array in NumPy. You can create a 1-D array by simply using the function `array()` which takes in a list of values as an argument and returns a 1-D array."
   ]
  },
  {
   "cell_type": "code",
   "execution_count": 61,
   "id": "single-amplifier",
   "metadata": {
    "ExecuteTime": {
     "end_time": "2024-09-21T21:35:50.305155Z",
     "start_time": "2024-09-21T21:35:50.303046Z"
    }
   },
   "outputs": [
    {
     "name": "stdout",
     "output_type": "stream",
     "text": [
      "[1 2 3]\n"
     ]
    }
   ],
   "source": [
    "# Create and print a NumPy array 'a' containing the elements 1, 2, 3.\n",
    "a = np.array([1, 2, 3])\n",
    "print(a)"
   ]
  },
  {
   "cell_type": "markdown",
   "id": "flexible-palace",
   "metadata": {},
   "source": [
    "Another way to implement an array is using `np.arange()`. This function will return an array of evenly spaced values within a given interval. To learn more about the arguments that this function takes, there is a powerful feature in Jupyter Notebook that allows you to access the documentation of any function by simply pressing `shift+tab` on your keyboard when clicking on the function. Give it a try for the built-in documentation of `np.arange()`. "
   ]
  },
  {
   "cell_type": "code",
   "execution_count": 62,
   "id": "aggressive-beginning",
   "metadata": {
    "ExecuteTime": {
     "end_time": "2024-09-21T21:35:50.357803Z",
     "start_time": "2024-09-21T21:35:50.355521Z"
    }
   },
   "outputs": [
    {
     "name": "stdout",
     "output_type": "stream",
     "text": [
      "[0 1 2]\n"
     ]
    }
   ],
   "source": [
    "# Create an array with 3 integers, starting from the default integer 0.\n",
    "b = np.arange(3)\n",
    "print(b)"
   ]
  },
  {
   "cell_type": "code",
   "execution_count": 63,
   "id": "mineral-assets",
   "metadata": {
    "ExecuteTime": {
     "end_time": "2024-09-21T21:35:50.378981Z",
     "start_time": "2024-09-21T21:35:50.376281Z"
    }
   },
   "outputs": [
    {
     "name": "stdout",
     "output_type": "stream",
     "text": [
      "[ 1  4  7 10 13 16 19]\n"
     ]
    }
   ],
   "source": [
    "# Create an array that starts from the integer 1, ends at 20, incremented by 3.\n",
    "c = np.arange(1, 20, 3)\n",
    "print(c)"
   ]
  },
  {
   "cell_type": "markdown",
   "id": "little-entrance",
   "metadata": {},
   "source": [
    "What if you wanted to create an array with five evenly spaced values in the interval from 0 to 100? As you may notice, you have 3 parameters that a function must take. One paremeter is the starting number, in  this case 0, the final number 100 and the number of elements in the array, in this case, 5. NumPy has a function that allows you to do specifically this by using `np.linspace()`."
   ]
  },
  {
   "cell_type": "code",
   "execution_count": 64,
   "id": "hispanic-offset",
   "metadata": {
    "ExecuteTime": {
     "end_time": "2024-09-21T21:35:50.403841Z",
     "start_time": "2024-09-21T21:35:50.400425Z"
    }
   },
   "outputs": [
    {
     "name": "stdout",
     "output_type": "stream",
     "text": [
      "[  0.  25.  50.  75. 100.]\n"
     ]
    }
   ],
   "source": [
    "lin_spaced_arr = np.linspace(0, 100, 5)\n",
    "print(lin_spaced_arr)"
   ]
  },
  {
   "cell_type": "markdown",
   "id": "victorian-norway",
   "metadata": {},
   "source": [
    "Did you notice that the output of the function is presented in the float value form (e.g. \"... 25. 50. ...\")? The reason is that the default type for values in the NumPy function `np.linspace` is a floating point (`np.float64`). You can easily specify your data type using `dtype`. If you access the built-in documentation of the functions, you may notice that most functions take in an optional parameter `dtype`. In addition to float, NumPy has several other data types such as `int`, and `char`. \n",
    "\n",
    "To change the type to integers, you need to set the dtype to `int`. You can do so, even in the previous functions. Feel free to try it out and modify the cells to output your desired data type. "
   ]
  },
  {
   "cell_type": "code",
   "execution_count": 65,
   "id": "black-worker",
   "metadata": {
    "ExecuteTime": {
     "end_time": "2024-09-21T21:35:50.447505Z",
     "start_time": "2024-09-21T21:35:50.445434Z"
    },
    "scrolled": true
   },
   "outputs": [
    {
     "name": "stdout",
     "output_type": "stream",
     "text": [
      "[  0.     6.25  12.5   18.75  25.    31.25  37.5   43.75  50.    56.25\n",
      "  62.5   68.75  75.    81.25  87.5   93.75 100.  ]\n"
     ]
    }
   ],
   "source": [
    "lin_spaced_arr_int = np.linspace(0, 100, 17)\n",
    "print(lin_spaced_arr_int)"
   ]
  },
  {
   "cell_type": "code",
   "execution_count": 66,
   "id": "specialized-intellectual",
   "metadata": {
    "ExecuteTime": {
     "end_time": "2024-09-21T21:35:50.467437Z",
     "start_time": "2024-09-21T21:35:50.465077Z"
    }
   },
   "outputs": [
    {
     "name": "stdout",
     "output_type": "stream",
     "text": [
      "[ 1  4  7 10 13 16 19]\n"
     ]
    }
   ],
   "source": [
    "c_int = np.arange(1, 20, 3, dtype=int)\n",
    "print(c_int)"
   ]
  },
  {
   "cell_type": "code",
   "execution_count": 67,
   "id": "irish-greeting",
   "metadata": {
    "ExecuteTime": {
     "end_time": "2024-09-21T21:35:50.498207Z",
     "start_time": "2024-09-21T21:35:50.496031Z"
    }
   },
   "outputs": [
    {
     "name": "stdout",
     "output_type": "stream",
     "text": [
      "[0. 1. 2.]\n"
     ]
    }
   ],
   "source": [
    "b_float = np.arange(3, dtype=float)\n",
    "print(b_float)"
   ]
  },
  {
   "cell_type": "code",
   "execution_count": 68,
   "id": "visible-logic",
   "metadata": {
    "ExecuteTime": {
     "end_time": "2024-09-21T21:35:50.536726Z",
     "start_time": "2024-09-21T21:35:50.534059Z"
    }
   },
   "outputs": [
    {
     "name": "stdout",
     "output_type": "stream",
     "text": [
      "['Welcome to Math for ML!']\n",
      "<U23\n"
     ]
    }
   ],
   "source": [
    "char_arr = np.array(['Welcome to Math for ML!'])\n",
    "print(char_arr)\n",
    "print(char_arr.dtype) # Prints the data type of the array"
   ]
  },
  {
   "cell_type": "markdown",
   "id": "korean-identity",
   "metadata": {},
   "source": [
    "Did you notice that the output of the data type of the `char_arr` array is `<U23`? \n",
    "This means that the string (`'Welcome to Math for ML!'`) is a 23-character (23) unicode string (`U`) on a little-endian architecture (`<`). You can learn more about data types [here](https://numpy.org/doc/stable/user/basics.types.html)."
   ]
  },
  {
   "cell_type": "markdown",
   "id": "ready-backup",
   "metadata": {},
   "source": [
    "<a name='1-4'></a>\n",
    "## 1.4 - More on NumPy arrays ##\n",
    "\n",
    "One of the advantages of using NumPy is that you can easily create arrays with built-in functions such as: \n",
    "- `np.ones()` - Returns a new array setting values to one.\n",
    "- `np.zeros()` - Returns a new array setting values to zero.\n",
    "- `np.empty()` - Returns a new uninitialized array. \n",
    "- `np.random.rand()` - Returns a new array with values chosen at random."
   ]
  },
  {
   "cell_type": "code",
   "execution_count": 69,
   "id": "prime-gamma",
   "metadata": {
    "ExecuteTime": {
     "end_time": "2024-09-21T21:35:50.575432Z",
     "start_time": "2024-09-21T21:35:50.572914Z"
    }
   },
   "outputs": [
    {
     "name": "stdout",
     "output_type": "stream",
     "text": [
      "[1. 1. 1.]\n"
     ]
    }
   ],
   "source": [
    "# Return a new array of shape 3, filled with ones. \n",
    "ones_arr = np.ones(3)\n",
    "print(ones_arr)"
   ]
  },
  {
   "cell_type": "code",
   "execution_count": 70,
   "id": "altered-timer",
   "metadata": {
    "ExecuteTime": {
     "end_time": "2024-09-21T21:35:50.591880Z",
     "start_time": "2024-09-21T21:35:50.589922Z"
    }
   },
   "outputs": [
    {
     "name": "stdout",
     "output_type": "stream",
     "text": [
      "[0. 0. 0.]\n"
     ]
    }
   ],
   "source": [
    "# Return a new array of shape 3, filled with zeroes.\n",
    "zeros_arr = np.zeros(3)\n",
    "print(zeros_arr)"
   ]
  },
  {
   "cell_type": "code",
   "execution_count": 71,
   "id": "loaded-kansas",
   "metadata": {
    "ExecuteTime": {
     "end_time": "2024-09-21T21:35:50.610370Z",
     "start_time": "2024-09-21T21:35:50.608173Z"
    }
   },
   "outputs": [
    {
     "name": "stdout",
     "output_type": "stream",
     "text": [
      "[0. 0. 0.]\n"
     ]
    }
   ],
   "source": [
    "# Return a new array of shape 3, without initializing entries.\n",
    "empt_arr = np.empty(3)\n",
    "print(empt_arr)"
   ]
  },
  {
   "cell_type": "code",
   "execution_count": 72,
   "id": "color-steps",
   "metadata": {
    "ExecuteTime": {
     "end_time": "2024-09-21T21:35:50.658942Z",
     "start_time": "2024-09-21T21:35:50.655281Z"
    }
   },
   "outputs": [
    {
     "name": "stdout",
     "output_type": "stream",
     "text": [
      "[0.68119698 0.77768241 0.7893388 ]\n"
     ]
    }
   ],
   "source": [
    "# Return a new array of shape 3 with random numbers between 0 and 1.\n",
    "rand_arr = np.random.rand(3)\n",
    "print(rand_arr)"
   ]
  },
  {
   "cell_type": "markdown",
   "id": "angry-engagement",
   "metadata": {},
   "source": [
    "<a name='2'></a>\n",
    "# 2 - Multidimensional Arrays #\n",
    "With NumPy you can also create arrays with more than one dimension. In the above examples, you dealt with 1-D arrays, where you can access their elements using a single index. A multidimensional array has more than one column. Think of a multidimensional array as an excel sheet where each row/column represents a dimension."
   ]
  },
  {
   "cell_type": "markdown",
   "id": "editorial-adobe",
   "metadata": {},
   "source": [
    "![Alt text](./images/download.png)"
   ]
  },
  {
   "cell_type": "code",
   "execution_count": 73,
   "id": "turned-nevada",
   "metadata": {
    "ExecuteTime": {
     "end_time": "2024-09-21T21:35:50.704831Z",
     "start_time": "2024-09-21T21:35:50.703036Z"
    }
   },
   "outputs": [
    {
     "name": "stdout",
     "output_type": "stream",
     "text": [
      "[[1 2 3]\n",
      " [4 5 6]]\n"
     ]
    }
   ],
   "source": [
    "# Create a 2 dimensional array (2-D)\n",
    "two_dim_arr = np.array([[1,2,3], [4,5,6]])\n",
    "print(two_dim_arr)"
   ]
  },
  {
   "cell_type": "markdown",
   "id": "greater-rescue",
   "metadata": {},
   "source": [
    "An alternative way to create a multidimensional array is by reshaping the initial 1-D array. Using `np.reshape()` you can rearrange elements of the previous array into a new shape. "
   ]
  },
  {
   "cell_type": "code",
   "execution_count": 74,
   "id": "assisted-traveler",
   "metadata": {
    "ExecuteTime": {
     "end_time": "2024-09-21T21:35:50.723263Z",
     "start_time": "2024-09-21T21:35:50.721093Z"
    }
   },
   "outputs": [
    {
     "name": "stdout",
     "output_type": "stream",
     "text": [
      "[[1 2 3]\n",
      " [4 5 6]]\n"
     ]
    }
   ],
   "source": [
    "# 1-D array \n",
    "one_dim_arr = np.array([1, 2, 3, 4, 5, 6])\n",
    "\n",
    "# Multidimensional array using reshape()\n",
    "multi_dim_arr = np.reshape(\n",
    "                    one_dim_arr, # the array to be reshaped\n",
    "                    (2,3) # dimensions of the new array\n",
    "                )\n",
    "# Print the new 2-D array with two rows and three columns\n",
    "print(multi_dim_arr)"
   ]
  },
  {
   "cell_type": "markdown",
   "id": "loving-accordance",
   "metadata": {},
   "source": [
    "<a name='2-1'></a>\n",
    "## 2.1 - Finding size, shape and dimension. ##"
   ]
  },
  {
   "cell_type": "markdown",
   "id": "suitable-russian",
   "metadata": {},
   "source": [
    "In future assignments, you will need to know how to find the size, dimension and shape of an array. These are all atrributes of a `ndarray` and can be accessed as follows:\n",
    "- `ndarray.ndim` - Stores the number dimensions of the array. \n",
    "- `ndarray.shape` - Stores the shape of the array. Each number in the tuple denotes the lengths of each corresponding dimension.\n",
    "- `ndarray.size` - Stores the number of elements in the array.\n"
   ]
  },
  {
   "cell_type": "code",
   "execution_count": 75,
   "id": "caring-julian",
   "metadata": {
    "ExecuteTime": {
     "end_time": "2024-09-21T21:35:50.749205Z",
     "start_time": "2024-09-21T21:35:50.747127Z"
    }
   },
   "outputs": [
    {
     "data": {
      "text/plain": [
       "2"
      ]
     },
     "execution_count": 75,
     "metadata": {},
     "output_type": "execute_result"
    }
   ],
   "source": [
    "# Dimension of the 2-D array multi_dim_arr\n",
    "multi_dim_arr.ndim"
   ]
  },
  {
   "cell_type": "code",
   "execution_count": 76,
   "id": "canadian-ribbon",
   "metadata": {
    "ExecuteTime": {
     "end_time": "2024-09-21T21:35:50.776653Z",
     "start_time": "2024-09-21T21:35:50.774257Z"
    }
   },
   "outputs": [
    {
     "data": {
      "text/plain": [
       "(2, 3)"
      ]
     },
     "execution_count": 76,
     "metadata": {},
     "output_type": "execute_result"
    }
   ],
   "source": [
    "# Shape of the 2-D array multi_dim_arr\n",
    "# Returns shape of 2 rows and 3 columns\n",
    "multi_dim_arr.shape"
   ]
  },
  {
   "cell_type": "code",
   "execution_count": 77,
   "id": "infectious-peeing",
   "metadata": {
    "ExecuteTime": {
     "end_time": "2024-09-21T21:35:50.812810Z",
     "start_time": "2024-09-21T21:35:50.810558Z"
    }
   },
   "outputs": [
    {
     "data": {
      "text/plain": [
       "6"
      ]
     },
     "execution_count": 77,
     "metadata": {},
     "output_type": "execute_result"
    }
   ],
   "source": [
    "# Size of the array multi_dim_arr\n",
    "# Returns total number of elements\n",
    "multi_dim_arr.size"
   ]
  },
  {
   "cell_type": "markdown",
   "id": "mighty-berry",
   "metadata": {},
   "source": [
    "<a name='3'></a>\n",
    "# 3 - Array math operations #\n",
    "In this section, you will see that NumPy allows you to quickly perform elementwise addition, substraction, multiplication and division for both 1-D and multidimensional arrays. The operations are performed using the math symbol for each '+', '-' and '*'. Recall that addition of Python lists works completely differently as it would append the lists, thus making a longer list. Meanwhile, trying to subtract or multipy Python lists simply would cause an error. "
   ]
  },
  {
   "cell_type": "code",
   "execution_count": 78,
   "id": "exposed-shower",
   "metadata": {
    "ExecuteTime": {
     "end_time": "2024-09-21T21:35:50.852096Z",
     "start_time": "2024-09-21T21:35:50.849418Z"
    }
   },
   "outputs": [
    {
     "name": "stdout",
     "output_type": "stream",
     "text": [
      "[ 3  7 11]\n",
      "[1 1 1]\n",
      "[ 2 12 30]\n"
     ]
    }
   ],
   "source": [
    "arr_1 = np.array([2, 4, 6])\n",
    "arr_2 = np.array([1, 3, 5])\n",
    "\n",
    "# Adding two 1-D arrays\n",
    "addition = arr_1 + arr_2\n",
    "print(addition)\n",
    "\n",
    "# Subtracting two 1-D arrays\n",
    "subtraction = arr_1 - arr_2\n",
    "print(subtraction)\n",
    "\n",
    "# Multiplying two 1-D arrays elementwise\n",
    "multiplication = arr_1 * arr_2\n",
    "print(multiplication)"
   ]
  },
  {
   "cell_type": "markdown",
   "id": "latest-slovenia",
   "metadata": {},
   "source": [
    "<a name='3-1'></a>\n",
    "## 3.1 - Multiplying vector with a scalar (broadcasting) ##\n",
    "Suppose you need to convert miles to kilometers. To do so, you can use the NumPy array functions that you've learned so far. You can do this by carrying out an operation between an array (miles) and a single number (the conversion rate which is a scalar). Since, 1 mile = 1.6 km, NumPy computes each multiplication within each cell. \n",
    "\n",
    "This concept is called **broadcasting**, which allows you to perform operations specifically on arrays of different shapes. "
   ]
  },
  {
   "cell_type": "code",
   "execution_count": 79,
   "id": "eligible-grant",
   "metadata": {
    "ExecuteTime": {
     "end_time": "2024-09-21T21:35:50.870487Z",
     "start_time": "2024-09-21T21:35:50.867999Z"
    }
   },
   "outputs": [
    {
     "data": {
      "text/plain": [
       "array([1.6, 3.2])"
      ]
     },
     "execution_count": 79,
     "metadata": {},
     "output_type": "execute_result"
    }
   ],
   "source": [
    "vector = np.array([1, 2])\n",
    "vector * 1.6"
   ]
  },
  {
   "cell_type": "markdown",
   "id": "seasonal-milwaukee",
   "metadata": {},
   "source": [
    "![Alt text](./images/broadcasting.png)"
   ]
  },
  {
   "cell_type": "markdown",
   "id": "plain-thumbnail",
   "metadata": {},
   "source": [
    "<a name='4'></a>\n",
    "# 4 - Indexing and slicing #\n",
    "Indexing is very useful as it allows you to select specific elements from an array. It also lets you select entire rows/columns or planes as you'll see in future assignments for multidimensional arrays. \n",
    "\n",
    "## 4.1 - Indexing ##\n",
    "Let us select specific elements from the arrays as given. "
   ]
  },
  {
   "cell_type": "code",
   "execution_count": 80,
   "id": "sought-amazon",
   "metadata": {
    "ExecuteTime": {
     "end_time": "2024-09-21T21:35:50.893897Z",
     "start_time": "2024-09-21T21:35:50.891919Z"
    }
   },
   "outputs": [
    {
     "name": "stdout",
     "output_type": "stream",
     "text": [
      "3\n",
      "1\n"
     ]
    }
   ],
   "source": [
    "# Select the third element of the array. Remember the counting starts from 0.\n",
    "a = np.array([1, 2, 3, 4, 5])\n",
    "print(a[2])\n",
    "\n",
    "# Select the first element of the array.\n",
    "print(a[0])"
   ]
  },
  {
   "cell_type": "markdown",
   "id": "australian-pharmacy",
   "metadata": {},
   "source": [
    "For multidimensional arrays of shape `n`, to index a specific element, you must input `n` indices, one for each dimension. There are two common ways to do this, either by using two sets of brackets, or by using a single bracket and separating each index by a comma. Both methods are shown here."
   ]
  },
  {
   "cell_type": "code",
   "execution_count": 81,
   "id": "characteristic-positive",
   "metadata": {
    "ExecuteTime": {
     "end_time": "2024-09-21T21:35:50.942548Z",
     "start_time": "2024-09-21T21:35:50.939978Z"
    }
   },
   "outputs": [
    {
     "name": "stdout",
     "output_type": "stream",
     "text": [
      "8\n",
      "8\n"
     ]
    }
   ],
   "source": [
    "# Indexing on a 2-D array\n",
    "two_dim = np.array(([1, 2, 3],\n",
    "          [4, 5, 6], \n",
    "          [7, 8, 9]))\n",
    "\n",
    "# Select element number 8 from the 2-D array using indices i, j and two sets of brackets\n",
    "print(two_dim[2][1])\n",
    "\n",
    "# Select element number 8 from the 2-D array, this time using i and j indexes in a single \n",
    "# set of brackets, separated by a comma\n",
    "print(two_dim[2,1])"
   ]
  },
  {
   "cell_type": "markdown",
   "id": "southwest-warrant",
   "metadata": {},
   "source": [
    "<a name='4-2'></a>\n",
    "## 4.2 - Slicing ##\n",
    "Slicing gives you a sublist of elements that you specify from the array. The slice notation specifies a start and end value, and copies the list from start up to but not including the end (end-exclusive). \n",
    "\n",
    "The syntax is:\n",
    "\n",
    "`array[start:end:step]`\n",
    "\n",
    "If no value is passed to start, it is assumed `start = 0`, if no value is passed to end, it is assumed that `end = length of array - 1` and if no value is passed to step, it is assumed `step = 1`.\n",
    "\n",
    "Note you can use slice notation with multi-dimensional indexing, as in `a[0:2, :5]`. This is the extent of indexing you'll need for this course but feel free to check out [the official NumPy documentation](https://numpy.org/doc/stable/user/basics.indexing.html) for extensive documentation on more advanced NumPy array indexing techniques."
   ]
  },
  {
   "cell_type": "code",
   "execution_count": 82,
   "id": "7802d58c65f9798d",
   "metadata": {
    "ExecuteTime": {
     "end_time": "2024-09-21T21:35:50.986869Z",
     "start_time": "2024-09-21T21:35:50.984138Z"
    }
   },
   "outputs": [
    {
     "data": {
      "text/plain": [
       "array([1, 2, 3, 4, 5])"
      ]
     },
     "execution_count": 82,
     "metadata": {},
     "output_type": "execute_result"
    }
   ],
   "source": [
    "a"
   ]
  },
  {
   "cell_type": "code",
   "execution_count": 83,
   "id": "moral-police",
   "metadata": {
    "ExecuteTime": {
     "end_time": "2024-09-21T21:35:51.000951Z",
     "start_time": "2024-09-21T21:35:50.999111Z"
    },
    "scrolled": true
   },
   "outputs": [
    {
     "name": "stdout",
     "output_type": "stream",
     "text": [
      "[2 3 4]\n"
     ]
    }
   ],
   "source": [
    "# Slice the array a to get the array [2,3,4]\n",
    "sliced_arr = a[1:4]\n",
    "print(sliced_arr)"
   ]
  },
  {
   "cell_type": "code",
   "execution_count": 84,
   "id": "a6dee9f1c0db320f",
   "metadata": {
    "ExecuteTime": {
     "end_time": "2024-09-21T21:35:51.027417Z",
     "start_time": "2024-09-21T21:35:51.024984Z"
    }
   },
   "outputs": [
    {
     "data": {
      "text/plain": [
       "array([2, 3, 4, 5])"
      ]
     },
     "execution_count": 84,
     "metadata": {},
     "output_type": "execute_result"
    }
   ],
   "source": [
    "a[1:]"
   ]
  },
  {
   "cell_type": "code",
   "execution_count": 85,
   "id": "181bce55",
   "metadata": {
    "ExecuteTime": {
     "end_time": "2024-09-21T21:35:51.066068Z",
     "start_time": "2024-09-21T21:35:51.063864Z"
    }
   },
   "outputs": [
    {
     "name": "stdout",
     "output_type": "stream",
     "text": [
      "[1 2 3]\n"
     ]
    }
   ],
   "source": [
    "# Slice the array a to get the array [1,2,3]\n",
    "sliced_arr = a[:3]\n",
    "print(sliced_arr)"
   ]
  },
  {
   "cell_type": "code",
   "execution_count": 86,
   "id": "63bfcd06",
   "metadata": {
    "ExecuteTime": {
     "end_time": "2024-09-21T21:35:51.093555Z",
     "start_time": "2024-09-21T21:35:51.091418Z"
    }
   },
   "outputs": [
    {
     "name": "stdout",
     "output_type": "stream",
     "text": [
      "[3 4 5]\n"
     ]
    }
   ],
   "source": [
    "# Slice the array a to get the array [3,4,5]\n",
    "sliced_arr = a[2:]\n",
    "print(sliced_arr)"
   ]
  },
  {
   "cell_type": "code",
   "execution_count": 87,
   "id": "0469a119",
   "metadata": {
    "ExecuteTime": {
     "end_time": "2024-09-21T21:35:51.133961Z",
     "start_time": "2024-09-21T21:35:51.131975Z"
    }
   },
   "outputs": [
    {
     "name": "stdout",
     "output_type": "stream",
     "text": [
      "[1 3 5]\n"
     ]
    }
   ],
   "source": [
    "# Slice the array a to get the array [1,3,5]\n",
    "sliced_arr = a[::2]\n",
    "print(sliced_arr)"
   ]
  },
  {
   "cell_type": "code",
   "execution_count": 88,
   "id": "f2ef18ad",
   "metadata": {
    "ExecuteTime": {
     "end_time": "2024-09-21T21:35:51.147717Z",
     "start_time": "2024-09-21T21:35:51.145912Z"
    }
   },
   "outputs": [
    {
     "name": "stdout",
     "output_type": "stream",
     "text": [
      "a == a[:]: [ True  True  True  True  True]\n",
      "a[:] == a[::]: [ True  True  True  True  True]\n"
     ]
    }
   ],
   "source": [
    "# Note that a == a[:] == a[::]\n",
    "print(f'a == a[:]: {a == a[:]}')\n",
    "print(f'a[:] == a[::]: {a[:] == a[::]}')"
   ]
  },
  {
   "cell_type": "code",
   "execution_count": 89,
   "id": "norwegian-fence",
   "metadata": {
    "ExecuteTime": {
     "end_time": "2024-09-21T21:35:51.177801Z",
     "start_time": "2024-09-21T21:35:51.175558Z"
    }
   },
   "outputs": [
    {
     "data": {
      "text/plain": [
       "array([[1, 2, 3]])"
      ]
     },
     "execution_count": 89,
     "metadata": {},
     "output_type": "execute_result"
    }
   ],
   "source": [
    "# Slice the two_dim array to get the first two rows\n",
    "sliced_arr_1 = two_dim[0:1,]\n",
    "sliced_arr_1"
   ]
  },
  {
   "cell_type": "code",
   "execution_count": 90,
   "id": "structured-lease",
   "metadata": {
    "ExecuteTime": {
     "end_time": "2024-09-21T21:35:51.208920Z",
     "start_time": "2024-09-21T21:35:51.207060Z"
    }
   },
   "outputs": [
    {
     "name": "stdout",
     "output_type": "stream",
     "text": [
      "[[4 5 6]\n",
      " [7 8 9]]\n"
     ]
    }
   ],
   "source": [
    "# Similarily, slice the two_dim array to get the last two rows\n",
    "sliced_two_dim_rows = two_dim[1:3]\n",
    "print(sliced_two_dim_rows)"
   ]
  },
  {
   "cell_type": "code",
   "execution_count": 91,
   "id": "fourth-center",
   "metadata": {
    "ExecuteTime": {
     "end_time": "2024-09-21T21:35:53.651240Z",
     "start_time": "2024-09-21T21:35:53.648313Z"
    }
   },
   "outputs": [
    {
     "name": "stdout",
     "output_type": "stream",
     "text": [
      "[2 5 8]\n"
     ]
    }
   ],
   "source": [
    "# This example uses slice notation to get every row, and then pulls the second column.\n",
    "# Notice how this example combines slice notation with the use of multiple indexes\n",
    "sliced_two_dim_cols = two_dim[:,1]\n",
    "print(sliced_two_dim_cols)"
   ]
  },
  {
   "cell_type": "markdown",
   "id": "appointed-worry",
   "metadata": {},
   "source": [
    "<a name='5'></a>\n",
    "# 5 - Stacking #\n",
    "Finally, stacking is a feature of NumPy that leads to increased customization of arrays. It means to join two or more arrays, either horizontally or vertically, meaning that it is done along a new axis. \n",
    "\n",
    "- `np.vstack()` - stacks vertically\n",
    "- `np.hstack()` - stacks horizontally\n",
    "- `np.hsplit()` - splits an array into several smaller arrays"
   ]
  },
  {
   "cell_type": "code",
   "execution_count": 104,
   "id": "casual-sacramento",
   "metadata": {
    "ExecuteTime": {
     "end_time": "2024-09-22T14:41:34.154775Z",
     "start_time": "2024-09-22T14:41:34.133853Z"
    }
   },
   "outputs": [
    {
     "name": "stdout",
     "output_type": "stream",
     "text": [
      "a1:\n",
      "[[1 1]\n",
      " [2 2]]\n",
      "a2:\n",
      "[[3 3]\n",
      " [4 4]]\n"
     ]
    }
   ],
   "source": [
    "a1 = np.array([[1,1], \n",
    "               [2,2]])\n",
    "a2 = np.array([[3,3],\n",
    "              [4,4]])\n",
    "print(f'a1:\\n{a1}')\n",
    "print(f'a2:\\n{a2}')"
   ]
  },
  {
   "cell_type": "code",
   "execution_count": 93,
   "id": "bizarre-welsh",
   "metadata": {
    "ExecuteTime": {
     "end_time": "2024-09-21T21:35:53.699894Z",
     "start_time": "2024-09-21T21:35:53.697852Z"
    }
   },
   "outputs": [
    {
     "name": "stdout",
     "output_type": "stream",
     "text": [
      "[[1 1]\n",
      " [2 2]\n",
      " [3 3]\n",
      " [4 4]]\n"
     ]
    }
   ],
   "source": [
    "# Stack the arrays vertically\n",
    "vert_stack = np.vstack((a1, a2))\n",
    "print(vert_stack)\n"
   ]
  },
  {
   "cell_type": "code",
   "execution_count": 94,
   "id": "applicable-tampa",
   "metadata": {
    "ExecuteTime": {
     "end_time": "2024-09-21T21:35:53.718181Z",
     "start_time": "2024-09-21T21:35:53.715368Z"
    }
   },
   "outputs": [
    {
     "name": "stdout",
     "output_type": "stream",
     "text": [
      "[[1 1 3 3]\n",
      " [2 2 4 4]]\n"
     ]
    }
   ],
   "source": [
    "# Stack the arrays horizontally\n",
    "horz_stack = np.hstack((a1, a2))\n",
    "print(horz_stack)"
   ]
  },
  {
   "cell_type": "code",
   "execution_count": 97,
   "id": "7baf48df67285336",
   "metadata": {
    "ExecuteTime": {
     "end_time": "2024-09-21T21:44:29.420126Z",
     "start_time": "2024-09-21T21:44:29.407278Z"
    }
   },
   "outputs": [
    {
     "data": {
      "text/plain": [
       "[array([[1, 1],\n",
       "        [2, 2]]),\n",
       " array([[3, 3],\n",
       "        [4, 4]])]"
      ]
     },
     "execution_count": 97,
     "metadata": {},
     "output_type": "execute_result"
    }
   ],
   "source": [
    "# Split the horizontally stacked array into 2 separate arrays of equal size\n",
    "horz_split_two = np.hsplit(horz_stack,2)\n",
    "# print(horz_split_two)\n",
    "horz_split_two"
   ]
  },
  {
   "cell_type": "code",
   "execution_count": 98,
   "id": "e7d452026d730563",
   "metadata": {
    "ExecuteTime": {
     "end_time": "2024-09-21T21:44:36.885260Z",
     "start_time": "2024-09-21T21:44:36.882171Z"
    }
   },
   "outputs": [
    {
     "data": {
      "text/plain": [
       "[array([[1],\n",
       "        [2]]),\n",
       " array([[1],\n",
       "        [2]]),\n",
       " array([[3],\n",
       "        [4]]),\n",
       " array([[3],\n",
       "        [4]])]"
      ]
     },
     "execution_count": 98,
     "metadata": {},
     "output_type": "execute_result"
    }
   ],
   "source": [
    "\n",
    "# Split the horizontally stacked array into 4 separate arrays of equal size\n",
    "horz_split_four = np.hsplit(horz_stack,4)\n",
    "# print(horz_split_four)\n",
    "horz_split_four"
   ]
  },
  {
   "cell_type": "code",
   "execution_count": 99,
   "id": "romantic-timing",
   "metadata": {
    "ExecuteTime": {
     "end_time": "2024-09-21T21:44:45.981563Z",
     "start_time": "2024-09-21T21:44:45.979062Z"
    }
   },
   "outputs": [
    {
     "data": {
      "text/plain": [
       "[array([[1],\n",
       "        [2]]),\n",
       " array([[1, 3, 3],\n",
       "        [2, 4, 4]])]"
      ]
     },
     "execution_count": 99,
     "metadata": {},
     "output_type": "execute_result"
    }
   ],
   "source": [
    "\n",
    "# Split the horizontally stacked array after the first column\n",
    "horz_split_first = np.hsplit(horz_stack,[1])\n",
    "# print(horz_split_first)\n",
    "horz_split_first"
   ]
  },
  {
   "cell_type": "code",
   "execution_count": 100,
   "id": "4c0da2188c1c4d23",
   "metadata": {
    "ExecuteTime": {
     "end_time": "2024-09-21T21:45:08.275872Z",
     "start_time": "2024-09-21T21:45:08.270080Z"
    }
   },
   "outputs": [
    {
     "data": {
      "text/plain": [
       "[array([[1, 1],\n",
       "        [2, 2]]),\n",
       " array([[3, 3],\n",
       "        [4, 4]])]"
      ]
     },
     "execution_count": 100,
     "metadata": {},
     "output_type": "execute_result"
    }
   ],
   "source": [
    "# Split the vertically stacked array into 2 separate arrays of equal size\n",
    "vert_split_two = np.vsplit(vert_stack,2)\n",
    "# print(vert_split_two)\n",
    "vert_split_two"
   ]
  },
  {
   "cell_type": "code",
   "execution_count": 101,
   "id": "90d594c34e42897e",
   "metadata": {
    "ExecuteTime": {
     "end_time": "2024-09-21T21:45:13.346391Z",
     "start_time": "2024-09-21T21:45:13.343318Z"
    }
   },
   "outputs": [
    {
     "data": {
      "text/plain": [
       "[array([[1, 1]]), array([[2, 2]]), array([[3, 3]]), array([[4, 4]])]"
      ]
     },
     "execution_count": 101,
     "metadata": {},
     "output_type": "execute_result"
    }
   ],
   "source": [
    "\n",
    "# Split the vertically stacked array into 4 separate arrays of equal size\n",
    "vert_split_four = np.vsplit(vert_stack,4)\n",
    "# print(vert_split_four)\n",
    "vert_split_four"
   ]
  },
  {
   "cell_type": "code",
   "execution_count": 103,
   "id": "essential-venue",
   "metadata": {
    "ExecuteTime": {
     "end_time": "2024-09-21T21:54:37.696932Z",
     "start_time": "2024-09-21T21:54:37.691Z"
    }
   },
   "outputs": [
    {
     "data": {
      "text/plain": [
       "[array([[1, 1]]),\n",
       " array([[2, 2],\n",
       "        [3, 3]]),\n",
       " array([[4, 4]])]"
      ]
     },
     "execution_count": 103,
     "metadata": {},
     "output_type": "execute_result"
    }
   ],
   "source": [
    "\n",
    "# Split the vertically stacked array after the first and third row\n",
    "vert_split_first_third = np.vsplit(vert_stack,[1,3])\n",
    "# print(vert_split_first_third)\n",
    "vert_split_first_third"
   ]
  },
  {
   "cell_type": "markdown",
   "id": "romance-mining",
   "metadata": {},
   "source": [
    "Congratulations on finishing your first notebook of this specialization!"
   ]
  }
 ],
 "metadata": {
  "kernelspec": {
   "display_name": "Python 3 (ipykernel)",
   "language": "python",
   "name": "python3"
  },
  "language_info": {
   "codemirror_mode": {
    "name": "ipython",
    "version": 3
   },
   "file_extension": ".py",
   "mimetype": "text/x-python",
   "name": "python",
   "nbconvert_exporter": "python",
   "pygments_lexer": "ipython3",
   "version": "3.11.9"
  },
  "vscode": {
   "interpreter": {
    "hash": "56d44d6a8424451b5ce45d1ae0b0b7865dc60710e7f74571dd51dd80d7829ee9"
   }
  }
 },
 "nbformat": 4,
 "nbformat_minor": 5
}
